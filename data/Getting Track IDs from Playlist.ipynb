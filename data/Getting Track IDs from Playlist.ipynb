{
 "cells": [
  {
   "cell_type": "code",
   "execution_count": 3,
   "metadata": {},
   "outputs": [],
   "source": [
    "#import statements\n",
    "import pandas as pd\n",
    "#glob is useful for working with filepaths\n",
    "import glob\n",
    "import math\n",
    "import spotipy\n",
    "import spotipy.util as util\n",
    "from spotipy.oauth2 import SpotifyClientCredentials\n",
    "import re\n",
    "\n",
    "#setting up spotify credentials\n",
    "def set_spotify():\n",
    "    client_id = 'd0b2731526744c759fcf012a56ec5bd5'\n",
    "    client_secret = '6e593cabd0e043da9041c5ef5825dec7'\n",
    "\n",
    "    #Sets up authentication to use the Spotify API\n",
    "    client_credentials_manager = SpotifyClientCredentials(client_id=client_id, client_secret=client_secret)\n",
    "    #Creates a Spotipy session using the credentials\n",
    "    sp = spotipy.Spotify(client_credentials_manager=client_credentials_manager)\n",
    "    return sp\n",
    "\n",
    "sp = set_spotify()"
   ]
  },
  {
   "cell_type": "code",
   "execution_count": 19,
   "metadata": {},
   "outputs": [
    {
     "name": "stdout",
     "output_type": "stream",
     "text": [
      "2tnVG71enUj33Ic2nFN6kZ: Ride It - Regard\n",
      "22mek4IiqubGD9ctzxc69s: How Deep Is Your Love - Calvin Harris\n",
      "4MAADpR6MjelkaZqe3Mgnv: Elastic - Joey Purp\n",
      "0ByMNEPAPpOR5H69DVrTNy: Don't Stop The Music - Rihanna\n",
      "5KBARWIxeMGkvUax9VtVC9: My Type - Saweetie\n",
      "0KKkJNfGyhkQ5aFogxQAPU: That's What I Like - Bruno Mars\n",
      "3kGfazcbVvVkuZunzlLgTD: Came Here for Love - Sigala\n",
      "0vOkmmJEtjuFZDzrQSFzEE: Hit Me With Your Best Shot - Pat Benatar\n",
      "6bzwoiUt0s1KDOedyy4OtQ: High School - Nicki Minaj\n",
      "3WGJSY8JaGliVIJyMig5aS: 1999 - Charli XCX\n",
      "5hyq3LBlCfjRQAFkdQwe8o: Vroom Vroom - Charli XCX\n",
      "2ZlCGeK30BLRNSPC832pNZ: Forever (feat. Post Malone & Clever) - Justin Bieber\n",
      "3Dv1eDb0MEgF93GpLXlucZ: Say So - Doja Cat\n",
      "2rb5MvYT7ZIxbKW5hfcHx8: Mi Gente - J Balvin\n",
      "0k2GOhqsrxDTAbFFSdNJjT: Temperature - Sean Paul\n",
      "7g13jf3zqlP5S68Voo5v9m: Dancing On My Own - Radio Edit - Robyn\n",
      "5uuJruktM9fMdN9Va0DUMl: Play That Funky Music - Wild Cherry\n",
      "5px6upUHM3fhOP621Edp4V: Physical - Dua Lipa\n",
      "1oHNvJVbFkexQc0BpQp7Y4: Starships - Nicki Minaj\n",
      "4jAIqgrPjKLTY9Gbez25Qb: Lights Up - Harry Styles\n",
      "67qz8HVZU1r0Q9MUJQ9AAi: Vibrate (feat. Swae Lee) - Tyga\n",
      "3aw9iWUQ3VrPQltgwvN9Xu: Family Affair - Mary J. Blige\n",
      "5iUQMwxUPdJBFeGkePtM66: Dang! (feat. Anderson .Paak) - Mac Miller\n",
      "7c3SbTuufigBWURcICnAWy: Tints (feat. Kendrick Lamar) - Anderson .Paak\n",
      "2M2WJ7gBlcKNxdhyfPp9zY: Best of My Love - The Emotions\n",
      "1Z2MfAx1nJ09NzGjodnvRW: Screwed (feat. Zoë Kravitz) - Janelle Monáe\n",
      "70pZIQqQ37SrNCADx0FiPN: Jet Black (feat. Brandy) - Anderson .Paak\n",
      "0UeYCHOETPfai02uskjJ3x: Shooting Stars - Bag Raiders\n",
      "7k6IzwMGpxnRghE7YosnXT: Me & U - Cassie\n",
      "6jEZLz3YpnEBRpVkv35AmP: Gasolina - Daddy Yankee\n",
      "4KTtYhxFtFL7mBwnjkKfLm: Glamorous - Fergie\n",
      "5Q0Nhxo0l2bP3pNjpGJwV1: Party In The U.S.A. - Miley Cyrus\n",
      "5G6aQWH215hCxdhfCqI7XB: Bad Girls - M.I.A.\n",
      "03F0kSuBhDgD2zWlAwkG8x: On the Ball - Bryce Vine\n",
      "1fvD4tBLGypUG0Tg2nHHus: Evacuate the Dancefloor - Radio Edit - Cascada\n",
      "2Y2q7PkD7lvuWr8YaZfWuv: Rich Girl - Gwen Stefani\n",
      "4yHFxB8kzzeuNvoouR8N0N: Damaged - Danity Kane\n",
      "1rFMYAZxBoAKSzXI54brMu: You Don't Know Me - Jax Jones\n",
      "4VT6fxUYk5cXmO3VSbFQ4k: Boa Noite - Karol Conká\n",
      "2R4KCSHfWuYiCMSu9f0nuc: Conceited (There's Something About Remy) - Remy Ma\n",
      "5XMkENs3GfeRza8MfVAhjK: Finesse - Bruno Mars\n",
      "0N3W5peJUQtI4eyR6GJT5O: King Kunta - Kendrick Lamar\n",
      "6I9VzXrHxO9rA9A5euc8Ak: Toxic - Britney Spears\n",
      "7gevvAspxft2qQmcvJjNBH: A Good Night - John Legend\n",
      "74wySERHHxB8Ul9A0CNBla: Lay All Your Love On Me - From 'Mamma Mia!' Original Motion Picture Soundtrack - Dominic Cooper\n",
      "4VfvjHFWjbjjg94LGVFipA: You'll Find A Way (Switch and Sinden Remix) - Santigold\n",
      "0GLUBbX4daHJkT3RQHEOia: Upgrade U (feat. Jay-Z) - Beyoncé\n",
      "41L3O37CECZt3N7ziG2z7l: Yummy - Justin Bieber\n",
      "3ibAzRj9JnowdoLkyllk3n: Holiday - Madonna\n",
      "4QNpBfC0zvjKqPJcyqBy9W: Give Me Everything (feat. Ne-Yo, Afrojack & Nayer) - Pitbull\n",
      "4umIPjkehX1r7uhmGvXiSV: Intentions (feat. Quavo) - Justin Bieber\n",
      "1ZPlNanZsJSPK5h9YZZFbZ: Like a Virgin - Madonna\n",
      "1jye0ZfUs4eb8iw41UcKSH: Love Me For The Weekend (with Ashe) - Party Pupils\n",
      "5leOhwmC0JYwAPxo6zGUHP: Seventeen - Alessia Cara\n",
      "1TfqLAPs4K3s2rJMoCokcS: Sweet Dreams (Are Made of This) - Remastered - Eurythmics\n",
      "76N7FdzCI9OsiUnzJVLY2m: Rumour Has It - Adele\n",
      "0HPD5WQqrq7wPWR7P7Dw1i: TiK ToK - Kesha\n",
      "2k6oLQC0nAw99WL1euDWdG: PAPI - Isabela Merced\n",
      "7FuRjlwyTY9uTAUgGpZtJU: Jump Jive An' Wail - The Brian Setzer Orchestra\n",
      "36phXHOKx8rO7CMp2vNX4x: Love Myself - Hailee Steinfeld\n",
      "7GK2KVYH8FrTC9zehmjVMd: Ring My Bell - Anita Ward\n",
      "6W8VktzOUZNlOdTMaeLuxv: If I Can't Have You - Kelly Clarkson\n",
      "5cXtT63OTadsjqfRkm5Dwd: Deepthroat - cupcakKe\n",
      "0ew27xRdxSexrWbODuLfeE: I'm Coming Out - Diana Ross\n",
      "20ORwCJusz4KS2PbTPVNKo: Leavin' - Jesse McCartney\n",
      "150zGw0P2EJccYJKnFIler: Drop The Game - Flume\n",
      "0M6ceBATSgswJqB3M8JywI: Crush - David Archuleta\n",
      "4w3tQBXhn5345eUXDGBWZG: 9 to 5 - Dolly Parton\n",
      "3RauEVgRgj1IuWdJ9fDs70: The Man - Taylor Swift\n",
      "2aIdVb8v9KTpEZnftkz2mD: Buy U a Drank (Shawty Snappin') (feat. Yung Joc) - T-Pain\n",
      "6lUY6MoqGgPnA27PHYxem5: Bulletproof - La Roux\n",
      "1M4qEo4HE3PRaCOM7EXNJq: Adore You - Harry Styles\n",
      "0sYnQF94tdLTOpyoaJNn7F: Rabbit Hole - Natalia Kills\n"
     ]
    }
   ],
   "source": [
    "# The playlist_id is taken from the playlist URL: https://open.spotify.com/playlist/4YFfrhWUFFH5BdPmoBm2kx\n",
    "# The playlist is named \"Machine Learning Capstone Playlist\".\n",
    "playlist_id = '4YFfrhWUFFH5BdPmoBm2kx'\n",
    "\n",
    "#Pull tracks out of playlist for parsing later\n",
    "result = sp.user_playlist_tracks(\"addie.jasica\", playlist_id, offset=110)\n",
    "\n",
    "\n",
    "# print(result['items'][0]['track']['artists'][0]['name'])\n",
    "\n",
    "track_list = []\n",
    "#append the amount of track IDs needed and place them in a list along with the track name as a double check\n",
    "for i in range(len(result['items'])):\n",
    "    track_list.append(result['items'][i]['track']['id'] + \": \" + result['items'][i]['track']['name'] + \" - \" + result['items'][i]['track']['artists'][0]['name'])\n",
    "\n",
    "for item in track_list:\n",
    "    print(item)"
   ]
  },
  {
   "cell_type": "code",
   "execution_count": null,
   "metadata": {},
   "outputs": [],
   "source": []
  },
  {
   "cell_type": "code",
   "execution_count": null,
   "metadata": {},
   "outputs": [],
   "source": [
    "artist= 'Jonas Brothers'\n",
    "track= 'S.O.S.'\n",
    "\n",
    "track_id = sp.search(q='artist:' + artist + ' track:' + track, type='track')"
   ]
  },
  {
   "cell_type": "code",
   "execution_count": null,
   "metadata": {},
   "outputs": [],
   "source": [
    "track_id"
   ]
  },
  {
   "cell_type": "code",
   "execution_count": null,
   "metadata": {},
   "outputs": [],
   "source": []
  }
 ],
 "metadata": {
  "kernelspec": {
   "display_name": "Python 3",
   "language": "python",
   "name": "python3"
  },
  "language_info": {
   "codemirror_mode": {
    "name": "ipython",
    "version": 3
   },
   "file_extension": ".py",
   "mimetype": "text/x-python",
   "name": "python",
   "nbconvert_exporter": "python",
   "pygments_lexer": "ipython3",
   "version": "3.7.3"
  }
 },
 "nbformat": 4,
 "nbformat_minor": 2
}
