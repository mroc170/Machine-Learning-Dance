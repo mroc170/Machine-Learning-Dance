{
 "cells": [
  {
   "cell_type": "code",
   "execution_count": 3,
   "metadata": {},
   "outputs": [],
   "source": [
    "#import statements\n",
    "import pandas as pd\n",
    "#glob is useful for working with filepaths\n",
    "import glob\n",
    "import math\n",
    "import spotipy\n",
    "import spotipy.util as util\n",
    "from spotipy.oauth2 import SpotifyClientCredentials\n",
    "import re\n",
    "\n",
    "#setting up spotify credentials\n",
    "def set_spotify():\n",
    "    client_id = 'd0b2731526744c759fcf012a56ec5bd5'\n",
    "    client_secret = '6e593cabd0e043da9041c5ef5825dec7'\n",
    "\n",
    "    #Sets up authentication to use the Spotify API\n",
    "    client_credentials_manager = SpotifyClientCredentials(client_id=client_id, client_secret=client_secret)\n",
    "    #Creates a Spotipy session using the credentials\n",
    "    sp = spotipy.Spotify(client_credentials_manager=client_credentials_manager)\n",
    "    return sp\n",
    "\n",
    "sp = set_spotify()"
   ]
  },
  {
   "cell_type": "code",
   "execution_count": 2,
   "metadata": {},
   "outputs": [
    {
     "name": "stdout",
     "output_type": "stream",
     "text": [
      "5XMkENs3GfeRza8MfVAhjK: Finesse\n",
      "0N3W5peJUQtI4eyR6GJT5O: King Kunta\n",
      "6I9VzXrHxO9rA9A5euc8Ak: Toxic\n",
      "7gevvAspxft2qQmcvJjNBH: A Good Night\n",
      "74wySERHHxB8Ul9A0CNBla: Lay All Your Love On Me - From 'Mamma Mia!' Original Motion Picture Soundtrack\n",
      "4VfvjHFWjbjjg94LGVFipA: You'll Find A Way (Switch and Sinden Remix)\n",
      "0GLUBbX4daHJkT3RQHEOia: Upgrade U (feat. Jay-Z)\n",
      "41L3O37CECZt3N7ziG2z7l: Yummy\n",
      "3ibAzRj9JnowdoLkyllk3n: Holiday\n",
      "4QNpBfC0zvjKqPJcyqBy9W: Give Me Everything (feat. Ne-Yo, Afrojack & Nayer)\n",
      "4umIPjkehX1r7uhmGvXiSV: Intentions (feat. Quavo)\n",
      "1ZPlNanZsJSPK5h9YZZFbZ: Like a Virgin\n",
      "1jye0ZfUs4eb8iw41UcKSH: Love Me For The Weekend (with Ashe)\n",
      "5leOhwmC0JYwAPxo6zGUHP: Seventeen\n",
      "1TfqLAPs4K3s2rJMoCokcS: Sweet Dreams (Are Made of This) - Remastered\n",
      "76N7FdzCI9OsiUnzJVLY2m: Rumour Has It\n",
      "0HPD5WQqrq7wPWR7P7Dw1i: TiK ToK\n",
      "2k6oLQC0nAw99WL1euDWdG: PAPI\n",
      "7FuRjlwyTY9uTAUgGpZtJU: Jump Jive An' Wail\n",
      "36phXHOKx8rO7CMp2vNX4x: Love Myself\n",
      "7GK2KVYH8FrTC9zehmjVMd: Ring My Bell\n",
      "6W8VktzOUZNlOdTMaeLuxv: If I Can't Have You\n",
      "5cXtT63OTadsjqfRkm5Dwd: Deepthroat\n",
      "0ew27xRdxSexrWbODuLfeE: I'm Coming Out\n",
      "20ORwCJusz4KS2PbTPVNKo: Leavin'\n",
      "150zGw0P2EJccYJKnFIler: Drop The Game\n",
      "0M6ceBATSgswJqB3M8JywI: Crush\n",
      "4w3tQBXhn5345eUXDGBWZG: 9 to 5\n",
      "3RauEVgRgj1IuWdJ9fDs70: The Man\n",
      "2aIdVb8v9KTpEZnftkz2mD: Buy U a Drank (Shawty Snappin') (feat. Yung Joc)\n",
      "6lUY6MoqGgPnA27PHYxem5: Bulletproof\n",
      "1M4qEo4HE3PRaCOM7EXNJq: Adore You\n",
      "0sYnQF94tdLTOpyoaJNn7F: Rabbit Hole\n",
      "7gkWXbAxIYuvtOpcN3p9GJ: God is a woman\n",
      "27356GVuMPFWiJSZCragoM: make up\n",
      "4aKIs5t9TqP59btlCGPrgw: Maneater\n",
      "6IwKcFdiRQZOWeYNhUiWIv: No One\n",
      "3qEu5RQnsEcSBX8SkiwJEG: 1, 2 Step (feat. Missy Elliott) - Main\n",
      "4nVyHATevhl5RC6Qmoko5H: I Like It\n",
      "0wkGHuJlJNe8dvUfw9i6fK: S&M\n",
      "2pbWkjtGtjkzBdZ95GFINm: Car Wash\n",
      "4BBt0kc625eUAdG2XpWPHm: Called Out In The Dark\n",
      "2Iib2MV3ECFJAourgP9dlY: La Isla Bonita\n",
      "6X1D6qbVmK48uoOD9nIvVV: Grease - From “Grease”\n",
      "6MBEjJlXQYXr8dfxDvZuoA: Do It To It\n",
      "6ntkwU1MhehTKgx4BWxX3f: Hoedown Throwdown\n"
     ]
    }
   ],
   "source": [
    "# The playlist_id is taken from the playlist URL: https://open.spotify.com/playlist/4YFfrhWUFFH5BdPmoBm2kx\n",
    "# The playlist is named \"Machine Learning Capstone Playlist\".\n",
    "playlist_id = '4YFfrhWUFFH5BdPmoBm2kx'\n",
    "\n",
    "#Pull tracks out of playlist for parsing later\n",
    "result = sp.user_playlist_tracks(\"addie.jasica\", playlist_id, offset=150)\n",
    "\n",
    "# print(result['items'][0]['track']['artists'][0]['name'])\n",
    "\n",
    "track_list = []\n",
    "#append the amount of track IDs needed and place them in a list along with the track name as a double check\n",
    "for i in range(len(result['items'])):\n",
    "    track_list.append(result['items'][i]['track']['id'] + \": \" + result['items'][i]['track']['name'] + \" - \" + result['items'][i]['track']['artists'][0]['name'])\n",
    "\n",
    "for item in track_list:\n",
    "    print(item)"
   ]
  },
  {
   "cell_type": "code",
   "execution_count": null,
   "metadata": {},
   "outputs": [],
   "source": []
  },
  {
   "cell_type": "code",
   "execution_count": null,
   "metadata": {},
   "outputs": [],
   "source": [
    "artist= 'Jonas Brothers'\n",
    "track= 'S.O.S.'\n",
    "\n",
    "track_id = sp.search(q='artist:' + artist + ' track:' + track, type='track')"
   ]
  },
  {
   "cell_type": "code",
   "execution_count": null,
   "metadata": {},
   "outputs": [],
   "source": [
    "track_id"
   ]
  },
  {
   "cell_type": "code",
   "execution_count": null,
   "metadata": {},
   "outputs": [],
   "source": []
  }
 ],
 "metadata": {
  "kernelspec": {
   "display_name": "Python 3",
   "language": "python",
   "name": "python3"
  },
  "language_info": {
   "codemirror_mode": {
    "name": "ipython",
    "version": 3
   },
   "file_extension": ".py",
   "mimetype": "text/x-python",
   "name": "python",
   "nbconvert_exporter": "python",
   "pygments_lexer": "ipython3",
   "version": "3.7.3"
  }
 },
 "nbformat": 4,
 "nbformat_minor": 2
}
