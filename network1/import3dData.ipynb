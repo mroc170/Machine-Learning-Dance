{
 "cells": [
  {
   "cell_type": "markdown",
   "metadata": {},
   "source": [
    "Basic import statements for the project"
   ]
  },
  {
   "cell_type": "code",
   "execution_count": 1,
   "metadata": {},
   "outputs": [],
   "source": [
    "#import statements\n",
    "import pandas as pd\n",
    "#glob is useful for working with filepaths\n",
    "import glob\n",
    "import math\n",
    "import spotipy\n",
    "import spotipy.util as util\n",
    "from spotipy.oauth2 import SpotifyClientCredentials\n",
    "import re"
   ]
  },
  {
   "cell_type": "markdown",
   "metadata": {},
   "source": [
    "Function for returning a list of filenames for the dance data"
   ]
  },
  {
   "cell_type": "code",
   "execution_count": 2,
   "metadata": {},
   "outputs": [],
   "source": [
    "def get_file_list():\n",
    "    #Saving all of the filepaths in data\n",
    "    data = []\n",
    "    for folder in glob.glob(\"../data/*\"):\n",
    "        if (folder[-3:] != '.md'):\n",
    "            data.append(glob.glob(folder+'/*')[0])\n",
    "    return data\n",
    "        \n",
    "files = get_file_list()"
   ]
  },
  {
   "cell_type": "markdown",
   "metadata": {},
   "source": [
    "The following cell defines the columns for our data."
   ]
  },
  {
   "cell_type": "code",
   "execution_count": 3,
   "metadata": {
    "scrolled": true
   },
   "outputs": [],
   "source": [
    "data_columns = ['head_x', 'head_y', 'head_z',\n",
    "               'neck_x', 'neck_y', 'neck_z',\n",
    "               'spine_x', 'spine_y', 'spine_z',\n",
    "               'hip_x', 'hip_y', 'hip_z',\n",
    "               'shoulderl_x', 'shoulderl_y', 'shoulderl_z',\n",
    "               'shoulderr_x', 'shoulderr_y', 'shoulderr_z',\n",
    "               'elbowl_x', 'elbowl_y', 'elbowl_z',\n",
    "               'elbowr_x', 'elbowr_y', 'elbowr_z',\n",
    "               'wristl_x', 'wristl_y', 'wristl_z',\n",
    "               'wristr_x', 'wristr_y', 'wristr_z',\n",
    "               'handl_x', 'handl_y', 'handl_z',\n",
    "               'handr_x', 'handr_y', 'handr_z',\n",
    "               'handtipl_x', 'handtipl_y', 'handtipl_z',\n",
    "               'handtipr_x', 'handtipr_y', 'handtipr_z',\n",
    "               'hipl_x', 'hipl_y', 'hipl_z',\n",
    "               'hipr_x', 'hipr_y', 'hipr_z',\n",
    "               'kneel_x', 'kneel_y', 'kneel_z',\n",
    "               'kneer_x', 'kneer_y', 'kneer_z',\n",
    "               'anklel_x', 'anklel_y', 'anklel_z',\n",
    "               'ankler_x', 'ankler_y', 'ankler_z',\n",
    "               'footl_x', 'footl_y', 'footl_z',\n",
    "               'footr_x', 'footr_y', 'footr_z']"
   ]
  },
  {
   "cell_type": "code",
   "execution_count": 4,
   "metadata": {},
   "outputs": [],
   "source": [
    "def create_df(filename):\n",
    "    array2d = []\n",
    "    \n",
    "    fp = open(filename, 'r')\n",
    "    line = fp.readline()\n",
    "\n",
    "    while line:\n",
    "        frame = line.split()\n",
    "        for i in range(len(frame)):\n",
    "            frame[i] = float(frame[i])\n",
    "        array2d.append(frame)\n",
    "        line = fp.readline()\n",
    "\n",
    "    df = pd.DataFrame(array2d, columns = data_columns)\n",
    "\n",
    "    df[\"square_handtip_distance\"] = (df['handtipl_x'] - df['handtipr_x'])**2 + (df['handtipl_y'] - df['handtipr_y'])**2 + (df['handtipl_z'] - df['handtipr_z'])**2\n",
    "\n",
    "    non_zero = df[df[\"square_handtip_distance\"] > 0]\n",
    "    #currently is just an estimation, taking the first frame where the hand distance is less than 0.1\n",
    "    clap_frame = non_zero[non_zero[\"square_handtip_distance\"] < 0.1].index[0].copy()\n",
    "    #add columns for time stamp and beat index\n",
    "    df[\"time_stamp\"] = 0\n",
    "    df[\"beat_index\"] = 0\n",
    "    clap_onwards = df.iloc[clap_frame:]\n",
    "    clap_onwards\n",
    "    return clap_onwards, clap_frame"
   ]
  },
  {
   "cell_type": "code",
   "execution_count": 5,
   "metadata": {},
   "outputs": [],
   "source": [
    "#setting up spotify credentials\n",
    "def set_spotify():\n",
    "    client_id = 'd0b2731526744c759fcf012a56ec5bd5'\n",
    "    client_secret = '6e593cabd0e043da9041c5ef5825dec7'\n",
    "\n",
    "    #Sets up authentication to use the Spotify API\n",
    "    client_credentials_manager = SpotifyClientCredentials(client_id=client_id, client_secret=client_secret)\n",
    "    #Creates a Spotipy session using the credentials\n",
    "    sp = spotipy.Spotify(client_credentials_manager=client_credentials_manager)\n",
    "    return sp\n",
    "\n",
    "sp = set_spotify()"
   ]
  },
  {
   "cell_type": "code",
   "execution_count": 6,
   "metadata": {},
   "outputs": [],
   "source": [
    "#Search for song id and get beats object\n",
    "#This will be automated in a playlist once that is set up\n",
    "name = \"Billie Eilish\"\n",
    "result = sp.search(name)\n",
    "artist_uri = result['tracks']['items'][0]['artists'][0][\"uri\"]\n",
    "sp_albums = sp.artist_albums(artist_uri, album_type='album')\n",
    "\n",
    "tracks = sp.album_tracks(sp_albums['items'][0]['uri'])\n",
    "id = tracks['items'][1]['id']\n",
    "\n",
    "def get_beats(song_id, filename):\n",
    "    analysis = sp.audio_analysis(id)\n",
    "    features = sp.audio_features(id)\n",
    "    #Starting beat will change depending on song\n",
    "    eight_counts = int(re.search(\"\\d+.txt\", filename).group()[0])\n",
    "    beat_count = eight_counts * 8\n",
    "    beats = analysis['beats'][beat_count:]\n",
    "    return beats\n"
   ]
  },
  {
   "cell_type": "code",
   "execution_count": 7,
   "metadata": {
    "scrolled": true
   },
   "outputs": [],
   "source": [
    "def add_beats(dance, beats, clap_frame):\n",
    "    #add time stamps to dataframe\n",
    "    dance.loc[clap_frame, \"time_stamp\"] = beats[0][\"start\"]\n",
    "\n",
    "    current_beat = 0\n",
    "    #for each row in the data frame...\n",
    "    for index, row in dance.iterrows():\n",
    "        time_stamp = beats[0][\"start\"] + 0.0666666666*(index-clap_frame)\n",
    "        dance.loc[index, \"time_stamp\"] = time_stamp #set time stamp for each frame\n",
    "        if current_beat < len(beats) - 1:\n",
    "            if beats[current_beat + 1][\"start\"] < time_stamp:\n",
    "                current_beat += 1\n",
    "        dance.loc[index, \"beat_index\"] = current_beat #set beat index for each frame\n",
    "\n",
    "    clap_to_end = dance[dance[\"time_stamp\"] < beats[-1][\"start\"]].copy() #cut off frames where song ends\n",
    "\n",
    "    return clap_to_end"
   ]
  },
  {
   "cell_type": "code",
   "execution_count": 8,
   "metadata": {},
   "outputs": [],
   "source": [
    "def extrapolate_id(dataname):\n",
    "    id_container = re.search(\"/\\w{22}_\", dataname).group()\n",
    "    track_id = id_container[1:-1]\n",
    "    return track_id"
   ]
  },
  {
   "cell_type": "code",
   "execution_count": 9,
   "metadata": {
    "scrolled": true
   },
   "outputs": [],
   "source": [
    "#parse_song takes in a filename and returns a dataframe of the dance data along with the beat intervals\n",
    "def parse_song(filename):\n",
    "    dance, clap_frame = create_df(filename)\n",
    "    song_id = extrapolate_id(filename)\n",
    "    beats = get_beats(song_id, filename)\n",
    "    return add_beats(dance, beats, clap_frame)"
   ]
  },
  {
   "cell_type": "code",
   "execution_count": 10,
   "metadata": {},
   "outputs": [],
   "source": [
    "#segment_beats takes the result of parse song and returns a list of dataframes of individual beats to add to training set\n",
    "def segment_beats(dance_data):\n",
    "    #groups the dance data by their beat index\n",
    "    groups = dance_data.groupby('beat_index')\n",
    "    #initialize empty list to populate with song beats\n",
    "    song_beats = []\n",
    "    #iterate through each group and append to song_beats\n",
    "    for name, group in groups:\n",
    "        song_beats.append(group)\n",
    "    return song_beats"
   ]
  },
  {
   "cell_type": "code",
   "execution_count": 12,
   "metadata": {},
   "outputs": [],
   "source": [
    "eyelash = parse_song('../data/BadGuy_BillieEilish1/2Fxmhks0bxGSBdJ92vM42m_date12_20_BadGuy-BillieEilish_2.txt')\n",
    "segment_beats(eyelash);"
   ]
  },
  {
   "cell_type": "code",
   "execution_count": null,
   "metadata": {},
   "outputs": [],
   "source": []
  }
 ],
 "metadata": {
  "kernelspec": {
   "display_name": "Python 3",
   "language": "python",
   "name": "python3"
  },
  "language_info": {
   "codemirror_mode": {
    "name": "ipython",
    "version": 3
   },
   "file_extension": ".py",
   "mimetype": "text/x-python",
   "name": "python",
   "nbconvert_exporter": "python",
   "pygments_lexer": "ipython3",
   "version": "3.7.3"
  }
 },
 "nbformat": 4,
 "nbformat_minor": 2
}
